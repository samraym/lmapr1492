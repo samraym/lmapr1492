{
 "cells": [
  {
   "cell_type": "markdown",
   "metadata": {},
   "source": [
    "# tâche 5"
   ]
  },
  {
   "cell_type": "markdown",
   "metadata": {},
   "source": [
    "Danc cette partie, nous allons caractériser la structure et la maille de notre cristal.\n",
    "\n",
    "Nous considérerons la maille primitive, contenant en moyenne 1 noeud et un motif, pour effectuer cet exercice. La répétition de cette maille permet de construire entièrement le cristal."
   ]
  },
  {
   "cell_type": "code",
   "execution_count": null,
   "metadata": {},
   "outputs": [],
   "source": [
    "from pymatgen.ext.matproj import MPRester\n",
    "\n",
    "with MPRester (\"5WSgGixxkDsJiqQXzr\") as m:\n",
    "    \n",
    "    #Création de la structure du cristal à partir du MP\n",
    "    structure = m.get_structure_by_material_id(\"mp-9437\")"
   ]
  },
  {
   "cell_type": "code",
   "execution_count": null,
   "metadata": {},
   "outputs": [],
   "source": [
    "from pymatgen.symmetry.analyzer import SpacegroupAnalyzer\n",
    "\n",
    "#Création d'un objet SpaceGroupAnalyzer\n",
    "struct = SpacegroupAnalyzer(structure)\n",
    "new_s=SpacegroupAnalyzer(structure).get_primitive_standard_structure()"
   ]
  },
  {
   "cell_type": "markdown",
   "metadata": {},
   "source": [
    "# 1) Réseau direct"
   ]
  },
  {
   "cell_type": "markdown",
   "metadata": {},
   "source": [
    "Pour pouvoir décrire une maille, nous avons besoin de 6 paramètres de maille : a, b, c, \n",
    "α\n",
    ", \n",
    "β\n",
    " et \n",
    "γ\n",
    ".\n",
    "\n",
    "Longueur de a = 4.220714720048253 Angström, \n",
    "Longueur de b = 4.220714720048253 Angström,\n",
    "Longueur de c = 4.220714720048253 Angström,\n",
    "\n",
    "On peut observer que les 3 vecteurs ont la même longueur. Intéressons-nous ensuite aux angles entre ceux-ci :\n",
    "\n",
    "α\n",
    " = 59.99999999999999°, \n",
    "β\n",
    " = 59.99999999999999° ,\n",
    "γ\n",
    " = 60.00000000000001°,\n",
    "\n",
    "A nouveau, on observe que les angles sont identiques.\n",
    "\n",
    "Les coordonnées dans la base cartésienne des vecteurs de base sont :\n",
    "\n",
    "a = [4.2207147 0.000000 0.000000], \n",
    "b = [0.000000 4.2207147 0.000000], \n",
    "c = [0.000000 0.000000 4.2207147]"
   ]
  },
  {
   "cell_type": "code",
   "execution_count": null,
   "metadata": {},
   "outputs": [],
   "source": [
    "#Création du lattice du reseau direct\n",
    "RD = new_s.lattice\n",
    "\n",
    "#Vecteurs de base du réseau direct\n",
    "a = RD.a\n",
    "b = RD.b\n",
    "c = RD.c\n",
    "\n",
    "print(a)\n",
    "print(b)\n",
    "print(c)\n",
    "\n",
    "#Angles du réseau direct\n",
    "alpha = RD.alpha\n",
    "beta = RD.beta\n",
    "gamma = RD.gamma\n",
    "\n",
    "print(alpha)\n",
    "print(beta)\n",
    "print(gamma)"
   ]
  },
  {
   "cell_type": "markdown",
   "metadata": {},
   "source": [
    "# 2) Réseau réciproque"
   ]
  },
  {
   "cell_type": "markdown",
   "metadata": {},
   "source": [
    "Le réseau réciproque correspond à l'ensemble des vecteurs d'onde K tels que leur périodicité est identique à celle du réseau initial. Ces vecteurs K sont des ondes planes. Les paramètres de maille sont :\n",
    "\n",
    "Longueur de a* = 1.823221774364132 Angström, \n",
    "Longueur de b* = 1.823221774364132 Angström ,\n",
    "Longueur de c* = 1.823221774364132 Angström\n",
    "\n",
    "On peut observer que les 3 vecteurs ont la même longueur. Intéressons-nous ensuite aux angles entre ceux-ci :\n",
    "\n",
    "α\n",
    "* = 109.47122063449069° \n",
    "β\n",
    "* = 109.47122063449069° \n",
    "γ\n",
    "* = 109.47122063449069°\n",
    "\n",
    "A nouveau, on observe que les angles sont identiques.\n",
    "\n",
    "Les coordonnées dans la base cartésienne des vecteurs de base sont :\n",
    "\n",
    "a* = [1.823221 0.000000 0.000000] \n",
    "b* = [0.000000 1.823221 0.000000] \n",
    "c* = [0.000000 0.000000 1.823221]"
   ]
  },
  {
   "cell_type": "code",
   "execution_count": null,
   "metadata": {},
   "outputs": [],
   "source": [
    "#Création d'une maille du réseau réciproque\n",
    "reciprocal = RD.reciprocal_lattice\n",
    "\n",
    "#Vecteurs de base du réseau réciproque\n",
    "a_r = reciprocal.a\n",
    "b_r = reciprocal.b\n",
    "c_r = reciprocal.c\n",
    "\n",
    "print(a_r)\n",
    "print(b_r)\n",
    "print(c_r)\n",
    "\n",
    "#Angles du réseau réciproque\n",
    "alpha_r = reciprocal.alpha\n",
    "beta_r = reciprocal.beta\n",
    "gamma_r = reciprocal.gamma\n",
    "\n",
    "print(alpha_r)\n",
    "print(beta_r)\n",
    "print(gamma_r)"
   ]
  },
  {
   "cell_type": "markdown",
   "metadata": {},
   "source": [
    "# 3) Système cristallin"
   ]
  },
  {
   "cell_type": "markdown",
   "metadata": {},
   "source": [
    "Les systèmes crsitallins sont une classification des groupes de symétrie. Cette classification s'effectue sur base des symétries morphologiques et des symétries des propriétés physiques et non en fonction du contenu des cristaux (atomes, molécules, ions...).\n",
    "\n",
    "Etant donné que \n",
    "a\n",
    "=\n",
    "b\n",
    "=\n",
    "c\n",
    " et que \n",
    "α\n",
    "=\n",
    "β\n",
    "=\n",
    "γ\n",
    ", nous sommes en présence d'un système cristallin cubique avec une maille cubique."
   ]
  },
  {
   "cell_type": "code",
   "execution_count": null,
   "metadata": {},
   "outputs": [],
   "source": [
    "#Type de maille\n",
    "maille = struct.get_lattice_type()\n",
    "\n",
    "#Système cristallin\n",
    "cristal = struct.get_crystal_system()"
   ]
  },
  {
   "cell_type": "markdown",
   "metadata": {},
   "source": [
    "# 6) Groupe ponctuel"
   ]
  },
  {
   "cell_type": "markdown",
   "metadata": {},
   "source": [
    "Le groupe ponctuel que nous avons avec ce cristal est 4̅3m et\n",
    "Le groupe d'espace que nous avons avec ce cristal est F4̅3m"
   ]
  },
  {
   "cell_type": "code",
   "execution_count": null,
   "metadata": {},
   "outputs": [],
   "source": [
    "#Groupe ponctuel\n",
    "GP = struct.get_point_group_symbol()"
   ]
  }
 ],
 "metadata": {
  "kernelspec": {
   "display_name": "Python 3",
   "language": "python",
   "name": "python3"
  },
  "language_info": {
   "codemirror_mode": {
    "name": "ipython",
    "version": 3
   },
   "file_extension": ".py",
   "mimetype": "text/x-python",
   "name": "python",
   "nbconvert_exporter": "python",
   "pygments_lexer": "ipython3",
   "version": "3.8.5"
  }
 },
 "nbformat": 4,
 "nbformat_minor": 4
}
