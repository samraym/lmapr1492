{
 "cells": [
  {
   "cell_type": "markdown",
   "metadata": {},
   "source": [
    "# tâche 8"
   ]
  },
  {
   "cell_type": "code",
   "execution_count": 1,
   "metadata": {},
   "outputs": [
    {
     "name": "stdout",
     "output_type": "stream",
     "text": [
      "Collecting pymatgen\n",
      "  Downloading pymatgen-2023.3.10-cp38-cp38-macosx_10_9_x86_64.whl (10.2 MB)\n",
      "\u001b[K     |████████████████████████████████| 10.2 MB 149 kB/s eta 0:00:01\n",
      "\u001b[?25hCollecting ruamel.yaml\n",
      "  Using cached ruamel.yaml-0.17.21-py3-none-any.whl (109 kB)\n",
      "Collecting pandas\n",
      "  Using cached pandas-1.5.3-cp38-cp38-macosx_10_9_x86_64.whl (11.9 MB)\n",
      "Collecting networkx>=2.2\n",
      "  Using cached networkx-3.0-py3-none-any.whl (2.0 MB)\n",
      "Collecting mp-api>=0.27.3\n",
      "  Using cached mp_api-0.30.10-py3-none-any.whl (71 kB)\n",
      "Collecting spglib>=2.0.2\n",
      "  Using cached spglib-2.0.2-cp38-cp38-macosx_10_9_x86_64.whl (274 kB)\n",
      "Collecting matplotlib>=1.5\n",
      "  Using cached matplotlib-3.7.1-cp38-cp38-macosx_10_12_x86_64.whl (7.4 MB)\n",
      "Collecting pybtex\n",
      "  Using cached pybtex-0.24.0-py2.py3-none-any.whl (561 kB)\n",
      "Collecting tabulate\n",
      "  Using cached tabulate-0.9.0-py3-none-any.whl (35 kB)\n",
      "Collecting monty>=3.0.2\n",
      "  Using cached monty-2022.9.9-py3-none-any.whl (66 kB)\n",
      "Collecting numpy>=1.20.1\n",
      "  Using cached numpy-1.24.2-cp38-cp38-macosx_10_9_x86_64.whl (19.8 MB)\n",
      "Collecting plotly>=4.5.0\n",
      "  Using cached plotly-5.13.1-py2.py3-none-any.whl (15.2 MB)\n",
      "Collecting requests\n",
      "  Using cached requests-2.28.2-py3-none-any.whl (62 kB)\n",
      "Collecting palettable>=3.1.1\n",
      "  Using cached palettable-3.3.0-py2.py3-none-any.whl (111 kB)\n",
      "Collecting sympy\n",
      "  Using cached sympy-1.11.1-py3-none-any.whl (6.5 MB)\n",
      "Collecting scipy>=1.5.0\n",
      "  Using cached scipy-1.10.1-cp38-cp38-macosx_10_9_x86_64.whl (35.0 MB)\n",
      "Collecting uncertainties>=3.1.4\n",
      "  Using cached uncertainties-3.1.7-py2.py3-none-any.whl (98 kB)\n",
      "Collecting tqdm\n",
      "  Using cached tqdm-4.65.0-py3-none-any.whl (77 kB)\n",
      "Collecting ruamel.yaml.clib>=0.2.6; platform_python_implementation == \"CPython\" and python_version < \"3.11\"\n",
      "  Using cached ruamel.yaml.clib-0.2.7-cp38-cp38-macosx_10_9_x86_64.whl (143 kB)\n",
      "Collecting pytz>=2020.1\n",
      "  Using cached pytz-2022.7.1-py2.py3-none-any.whl (499 kB)\n",
      "Collecting python-dateutil>=2.8.1\n",
      "  Using cached python_dateutil-2.8.2-py2.py3-none-any.whl (247 kB)\n",
      "Collecting typing-extensions>=3.7.4.1\n",
      "  Using cached typing_extensions-4.5.0-py3-none-any.whl (27 kB)\n",
      "Collecting setuptools\n",
      "  Using cached setuptools-67.6.0-py3-none-any.whl (1.1 MB)\n",
      "Collecting emmet-core>=0.39.8\n",
      "  Downloading emmet_core-0.50.0-py3-none-any.whl (137 kB)\n",
      "\u001b[K     |████████████████████████████████| 137 kB 14.0 MB/s eta 0:00:01\n",
      "\u001b[?25hCollecting msgpack\n",
      "  Using cached msgpack-1.0.5-cp38-cp38-macosx_10_9_x86_64.whl (73 kB)\n",
      "Collecting importlib-resources>=3.2.0; python_version < \"3.10\"\n",
      "  Using cached importlib_resources-5.12.0-py3-none-any.whl (36 kB)\n",
      "Collecting pyparsing>=2.3.1\n",
      "  Using cached pyparsing-3.0.9-py3-none-any.whl (98 kB)\n",
      "Collecting pillow>=6.2.0\n",
      "  Using cached Pillow-9.4.0-2-cp38-cp38-macosx_10_10_x86_64.whl (3.3 MB)\n",
      "Collecting contourpy>=1.0.1\n",
      "  Using cached contourpy-1.0.7-cp38-cp38-macosx_10_9_x86_64.whl (243 kB)\n",
      "Collecting fonttools>=4.22.0\n",
      "  Using cached fonttools-4.39.0-py3-none-any.whl (1.0 MB)\n",
      "Collecting kiwisolver>=1.0.1\n",
      "  Using cached kiwisolver-1.4.4-cp38-cp38-macosx_10_9_x86_64.whl (65 kB)\n",
      "Collecting packaging>=20.0\n",
      "  Using cached packaging-23.0-py3-none-any.whl (42 kB)\n",
      "Collecting cycler>=0.10\n",
      "  Using cached cycler-0.11.0-py3-none-any.whl (6.4 kB)\n",
      "Collecting latexcodec>=1.0.4\n",
      "  Using cached latexcodec-2.0.1-py2.py3-none-any.whl (18 kB)\n",
      "Collecting six\n",
      "  Using cached six-1.16.0-py2.py3-none-any.whl (11 kB)\n",
      "Collecting PyYAML>=3.01\n",
      "  Using cached PyYAML-6.0-cp38-cp38-macosx_10_9_x86_64.whl (192 kB)\n",
      "Collecting tenacity>=6.2.0\n",
      "  Using cached tenacity-8.2.2-py3-none-any.whl (24 kB)\n",
      "Collecting charset-normalizer<4,>=2\n",
      "  Using cached charset_normalizer-3.1.0-cp38-cp38-macosx_10_9_x86_64.whl (123 kB)\n",
      "Collecting idna<4,>=2.5\n",
      "  Using cached idna-3.4-py3-none-any.whl (61 kB)\n",
      "Collecting urllib3<1.27,>=1.21.1\n",
      "  Downloading urllib3-1.26.15-py2.py3-none-any.whl (140 kB)\n",
      "\u001b[K     |████████████████████████████████| 140 kB 18.0 MB/s eta 0:00:01\n",
      "\u001b[?25hCollecting certifi>=2017.4.17\n",
      "  Using cached certifi-2022.12.7-py3-none-any.whl (155 kB)\n",
      "Collecting mpmath>=0.19\n",
      "  Using cached mpmath-1.3.0-py3-none-any.whl (536 kB)\n",
      "Processing /Users/samraymakers/Library/Caches/pip/wheels/a0/0b/ee/e6994fadb42c1354dcccb139b0bf2795271bddfe6253ccdf11/future-0.18.3-py3-none-any.whl\n",
      "Collecting pydantic>=1.10.2\n",
      "  Using cached pydantic-1.10.6-cp38-cp38-macosx_10_9_x86_64.whl (2.9 MB)\n",
      "Collecting zipp>=3.1.0; python_version < \"3.10\"\n",
      "  Using cached zipp-3.15.0-py3-none-any.whl (6.8 kB)\n",
      "Installing collected packages: ruamel.yaml.clib, ruamel.yaml, numpy, pytz, six, python-dateutil, pandas, networkx, typing-extensions, setuptools, monty, spglib, latexcodec, PyYAML, pybtex, pydantic, emmet-core, msgpack, charset-normalizer, idna, urllib3, certifi, requests, mp-api, zipp, importlib-resources, pyparsing, pillow, contourpy, fonttools, kiwisolver, packaging, cycler, matplotlib, tabulate, tenacity, plotly, palettable, mpmath, sympy, scipy, future, uncertainties, tqdm, pymatgen\n",
      "Successfully installed PyYAML-6.0 certifi-2022.12.7 charset-normalizer-3.1.0 contourpy-1.0.7 cycler-0.11.0 emmet-core-0.50.0 fonttools-4.39.0 future-0.18.3 idna-3.4 importlib-resources-5.12.0 kiwisolver-1.4.4 latexcodec-2.0.1 matplotlib-3.7.1 monty-2022.9.9 mp-api-0.30.10 mpmath-1.3.0 msgpack-1.0.5 networkx-3.0 numpy-1.24.2 packaging-23.0 palettable-3.3.0 pandas-1.5.3 pillow-9.4.0 plotly-5.13.1 pybtex-0.24.0 pydantic-1.10.6 pymatgen-2023.3.10 pyparsing-3.0.9 python-dateutil-2.8.2 pytz-2022.7.1 requests-2.28.2 ruamel.yaml-0.17.21 ruamel.yaml.clib-0.2.7 scipy-1.10.1 setuptools-67.6.0 six-1.16.0 spglib-2.0.2 sympy-1.11.1 tabulate-0.9.0 tenacity-8.2.2 tqdm-4.65.0 typing-extensions-4.5.0 uncertainties-3.1.7 urllib3-1.26.15 zipp-3.15.0\n",
      "Note: you may need to restart the kernel to use updated packages.\n"
     ]
    }
   ],
   "source": [
    " #pip install pymatgen --ignore-installed ruamel.yaml"
   ]
  },
  {
   "cell_type": "code",
   "execution_count": null,
   "metadata": {},
   "outputs": [],
   "source": [
    "from pymatgen.ext.matproj import MPRester\n",
    "\n",
    "with MPRester (\"5WSgGixxkDsJiqQXzr\") as m:\n",
    "    \n",
    "    #Création de la structure du cristal à partir du MP\n",
    "    structure = m.get_structure_by_material_id(\"mp-9437\")"
   ]
  }
 ],
 "metadata": {
  "kernelspec": {
   "display_name": "Python 3.10.9",
   "language": "python",
   "name": "python3"
  },
  "language_info": {
   "codemirror_mode": {
    "name": "ipython",
    "version": 3
   },
   "file_extension": ".py",
   "mimetype": "text/x-python",
   "name": "python",
   "nbconvert_exporter": "python",
   "pygments_lexer": "ipython3",
   "version": "3.10.9"
  },
  "vscode": {
   "interpreter": {
    "hash": "f58e1fd1dffda24ede3287c2341e53449def37878efa28537e9dc5220ce1ccbd"
   }
  }
 },
 "nbformat": 4,
 "nbformat_minor": 4
}
